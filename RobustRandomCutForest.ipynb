{
 "cells": [
  {
   "cell_type": "code",
   "execution_count": 1,
   "metadata": {},
   "outputs": [],
   "source": [
    "import matplotlib.pyplot as plt\n",
    "import matplotlib.patches as patches\n",
    "\n",
    "import pickle as pkl\n",
    "import pandas as pd\n",
    "import numpy as np\n",
    "from scipy import stats\n",
    "from scipy.stats import zscore\n",
    "import copy\n",
    "\n",
    "import datetime as dt\n",
    "from datetime import datetime\n",
    "import warnings\n",
    "warnings.filterwarnings(action = 'ignore')\n",
    "import seaborn as sns\n",
    "import tqdm\n",
    "import statsmodels.api as sm\n",
    "\n",
    "from sklearn.preprocessing import MinMaxScaler\n",
    "import numpy as np\n",
    "from sklearn.cluster import KMeans\n",
    "import rrcf"
   ]
  },
  {
   "cell_type": "markdown",
   "metadata": {},
   "source": [
    "---\n",
    "#### Anomaly Score 계산"
   ]
  },
  {
   "cell_type": "code",
   "execution_count": null,
   "metadata": {},
   "outputs": [],
   "source": [
    "save = {}\n",
    "\n",
    "for i in range(len(vision_chunk)): \n",
    "\n",
    "    results = pd.DataFrame(vision_chunk[i][column].reset_index(drop=True))\n",
    "    results['DATE'] = vision_chunk[i]['DATE_ms'].reset_index(drop=True)\n",
    "    \n",
    "    \n",
    "    n = len(vision_chunk[i][column])\n",
    "\n",
    "    num_trees = 100\n",
    "    tree_size = 256\n",
    "\n",
    "    # Construct forest\n",
    "    forest = []\n",
    "    while len(forest) < num_trees:\n",
    "        # Select random subsets of points uniformly from point set\n",
    "        ixs = np.random.choice(n, size=(n // tree_size, tree_size),\n",
    "                            replace=False)\n",
    "        # Add sampled trees to forest\n",
    "        trees = [rrcf.RCTree(results[column].values.reshape(-1,1)[ix], index_labels=ix) for ix in ixs]\n",
    "        forest.extend(trees)\n",
    "\n",
    "    # Compute average CoDisp\n",
    "    avg_codisp = pd.Series(0.0, index=np.arange(n))\n",
    "    index = np.zeros(n)\n",
    "    for tree in forest:\n",
    "        codisp = pd.Series({leaf : tree.codisp(leaf) for leaf in tree.leaves})\n",
    "        avg_codisp[codisp.index] += codisp\n",
    "        np.add.at(index, codisp.index.values, 1)\n",
    "    avg_codisp /= index\n",
    "    \n",
    "    \n",
    "    # diff = 200\n",
    "    cnt = 25\n",
    "    # cnt = len(results)//diff\n",
    "    diff = len(results)//cnt\n",
    "    print(cnt)\n",
    "    results['anomaly'] = avg_codisp\n",
    "    test = results[['anomaly']].groupby(results.index//diff).mean()\n",
    " \n",
    "    save[vision_chunk[i]['chunk_no'].unique()[0]] = test"
   ]
  }
 ],
 "metadata": {
  "interpreter": {
   "hash": "5a3adc81eaa78eb9c4c47afed92821ed50fbe14b18b994f3b473860487117bdf"
  },
  "kernelspec": {
   "display_name": "Python 3.8.10 64-bit ('csb': conda)",
   "language": "python",
   "name": "python3"
  },
  "language_info": {
   "codemirror_mode": {
    "name": "ipython",
    "version": 3
   },
   "file_extension": ".py",
   "mimetype": "text/x-python",
   "name": "python",
   "nbconvert_exporter": "python",
   "pygments_lexer": "ipython3",
   "version": "3.8.10"
  },
  "orig_nbformat": 4
 },
 "nbformat": 4,
 "nbformat_minor": 2
}
